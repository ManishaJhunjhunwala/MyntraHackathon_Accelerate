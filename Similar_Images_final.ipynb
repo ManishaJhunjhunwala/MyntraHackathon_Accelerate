{
  "nbformat": 4,
  "nbformat_minor": 0,
  "metadata": {
    "colab": {
      "name": "Similar Images final.ipynb",
      "provenance": [],
      "authorship_tag": "ABX9TyNpdrn8i06Anzq5ZcSi12zo",
      "include_colab_link": true
    },
    "kernelspec": {
      "name": "python3",
      "display_name": "Python 3"
    },
    "language_info": {
      "name": "python"
    }
  },
  "cells": [
    {
      "cell_type": "markdown",
      "metadata": {
        "id": "view-in-github",
        "colab_type": "text"
      },
      "source": [
        "<a href=\"https://colab.research.google.com/github/ManishaJhunjhunwala/MyntraHackathon_Accelerate/blob/main/Similar_Images_final.ipynb\" target=\"_parent\"><img src=\"https://colab.research.google.com/assets/colab-badge.svg\" alt=\"Open In Colab\"/></a>"
      ]
    },
    {
      "cell_type": "code",
      "metadata": {
        "colab": {
          "base_uri": "https://localhost:8080/"
        },
        "id": "60htlc8i52OK",
        "outputId": "7b4abb33-1723-43ab-b3c5-d48dad7563ca"
      },
      "source": [
        "from google.colab import drive\n",
        "\n",
        "drive.mount('/content/gdrive')"
      ],
      "execution_count": 1,
      "outputs": [
        {
          "output_type": "stream",
          "text": [
            "Mounted at /content/gdrive\n"
          ],
          "name": "stdout"
        }
      ]
    },
    {
      "cell_type": "code",
      "metadata": {
        "colab": {
          "base_uri": "https://localhost:8080/"
        },
        "id": "JCeePS446y8W",
        "outputId": "82ee95a5-be50-4168-e80f-de00e37ae244"
      },
      "source": [
        "!pip install tensorflow\n",
        "import skimage\n",
        "print(skimage.__version__)\n",
        "# Update pip\n",
        "!python -m pip install -U pip\n",
        "# Install scikit-image\n",
        "!python -m pip install -U scikit-image\n",
        "!python -c 'from skimage.data import download_all; download_all()'"
      ],
      "execution_count": 2,
      "outputs": [
        {
          "output_type": "stream",
          "text": [
            "Requirement already satisfied: tensorflow in /usr/local/lib/python3.7/dist-packages (2.4.1)\n",
            "Requirement already satisfied: gast==0.3.3 in /usr/local/lib/python3.7/dist-packages (from tensorflow) (0.3.3)\n",
            "Requirement already satisfied: tensorflow-estimator<2.5.0,>=2.4.0 in /usr/local/lib/python3.7/dist-packages (from tensorflow) (2.4.0)\n",
            "Requirement already satisfied: google-pasta~=0.2 in /usr/local/lib/python3.7/dist-packages (from tensorflow) (0.2.0)\n",
            "Requirement already satisfied: grpcio~=1.32.0 in /usr/local/lib/python3.7/dist-packages (from tensorflow) (1.32.0)\n",
            "Requirement already satisfied: astunparse~=1.6.3 in /usr/local/lib/python3.7/dist-packages (from tensorflow) (1.6.3)\n",
            "Requirement already satisfied: absl-py~=0.10 in /usr/local/lib/python3.7/dist-packages (from tensorflow) (0.12.0)\n",
            "Requirement already satisfied: keras-preprocessing~=1.1.2 in /usr/local/lib/python3.7/dist-packages (from tensorflow) (1.1.2)\n",
            "Requirement already satisfied: protobuf>=3.9.2 in /usr/local/lib/python3.7/dist-packages (from tensorflow) (3.12.4)\n",
            "Requirement already satisfied: flatbuffers~=1.12.0 in /usr/local/lib/python3.7/dist-packages (from tensorflow) (1.12)\n",
            "Requirement already satisfied: opt-einsum~=3.3.0 in /usr/local/lib/python3.7/dist-packages (from tensorflow) (3.3.0)\n",
            "Requirement already satisfied: termcolor~=1.1.0 in /usr/local/lib/python3.7/dist-packages (from tensorflow) (1.1.0)\n",
            "Requirement already satisfied: wrapt~=1.12.1 in /usr/local/lib/python3.7/dist-packages (from tensorflow) (1.12.1)\n",
            "Requirement already satisfied: typing-extensions~=3.7.4 in /usr/local/lib/python3.7/dist-packages (from tensorflow) (3.7.4.3)\n",
            "Requirement already satisfied: wheel~=0.35 in /usr/local/lib/python3.7/dist-packages (from tensorflow) (0.36.2)\n",
            "Requirement already satisfied: numpy~=1.19.2 in /usr/local/lib/python3.7/dist-packages (from tensorflow) (1.19.5)\n",
            "Requirement already satisfied: tensorboard~=2.4 in /usr/local/lib/python3.7/dist-packages (from tensorflow) (2.4.1)\n",
            "Requirement already satisfied: h5py~=2.10.0 in /usr/local/lib/python3.7/dist-packages (from tensorflow) (2.10.0)\n",
            "Requirement already satisfied: six~=1.15.0 in /usr/local/lib/python3.7/dist-packages (from tensorflow) (1.15.0)\n",
            "Requirement already satisfied: setuptools in /usr/local/lib/python3.7/dist-packages (from protobuf>=3.9.2->tensorflow) (54.2.0)\n",
            "Requirement already satisfied: requests<3,>=2.21.0 in /usr/local/lib/python3.7/dist-packages (from tensorboard~=2.4->tensorflow) (2.23.0)\n",
            "Requirement already satisfied: google-auth<2,>=1.6.3 in /usr/local/lib/python3.7/dist-packages (from tensorboard~=2.4->tensorflow) (1.28.1)\n",
            "Requirement already satisfied: google-auth-oauthlib<0.5,>=0.4.1 in /usr/local/lib/python3.7/dist-packages (from tensorboard~=2.4->tensorflow) (0.4.4)\n",
            "Requirement already satisfied: markdown>=2.6.8 in /usr/local/lib/python3.7/dist-packages (from tensorboard~=2.4->tensorflow) (3.3.4)\n",
            "Requirement already satisfied: werkzeug>=0.11.15 in /usr/local/lib/python3.7/dist-packages (from tensorboard~=2.4->tensorflow) (1.0.1)\n",
            "Requirement already satisfied: tensorboard-plugin-wit>=1.6.0 in /usr/local/lib/python3.7/dist-packages (from tensorboard~=2.4->tensorflow) (1.8.0)\n",
            "Requirement already satisfied: chardet<4,>=3.0.2 in /usr/local/lib/python3.7/dist-packages (from requests<3,>=2.21.0->tensorboard~=2.4->tensorflow) (3.0.4)\n",
            "Requirement already satisfied: certifi>=2017.4.17 in /usr/local/lib/python3.7/dist-packages (from requests<3,>=2.21.0->tensorboard~=2.4->tensorflow) (2020.12.5)\n",
            "Requirement already satisfied: urllib3!=1.25.0,!=1.25.1,<1.26,>=1.21.1 in /usr/local/lib/python3.7/dist-packages (from requests<3,>=2.21.0->tensorboard~=2.4->tensorflow) (1.24.3)\n",
            "Requirement already satisfied: idna<3,>=2.5 in /usr/local/lib/python3.7/dist-packages (from requests<3,>=2.21.0->tensorboard~=2.4->tensorflow) (2.10)\n",
            "Requirement already satisfied: rsa<5,>=3.1.4; python_version >= \"3.6\" in /usr/local/lib/python3.7/dist-packages (from google-auth<2,>=1.6.3->tensorboard~=2.4->tensorflow) (4.7.2)\n",
            "Requirement already satisfied: cachetools<5.0,>=2.0.0 in /usr/local/lib/python3.7/dist-packages (from google-auth<2,>=1.6.3->tensorboard~=2.4->tensorflow) (4.2.1)\n",
            "Requirement already satisfied: pyasn1-modules>=0.2.1 in /usr/local/lib/python3.7/dist-packages (from google-auth<2,>=1.6.3->tensorboard~=2.4->tensorflow) (0.2.8)\n",
            "Requirement already satisfied: requests-oauthlib>=0.7.0 in /usr/local/lib/python3.7/dist-packages (from google-auth-oauthlib<0.5,>=0.4.1->tensorboard~=2.4->tensorflow) (1.3.0)\n",
            "Requirement already satisfied: importlib-metadata; python_version < \"3.8\" in /usr/local/lib/python3.7/dist-packages (from markdown>=2.6.8->tensorboard~=2.4->tensorflow) (3.10.1)\n",
            "Requirement already satisfied: pyasn1>=0.1.3 in /usr/local/lib/python3.7/dist-packages (from rsa<5,>=3.1.4; python_version >= \"3.6\"->google-auth<2,>=1.6.3->tensorboard~=2.4->tensorflow) (0.4.8)\n",
            "Requirement already satisfied: oauthlib>=3.0.0 in /usr/local/lib/python3.7/dist-packages (from requests-oauthlib>=0.7.0->google-auth-oauthlib<0.5,>=0.4.1->tensorboard~=2.4->tensorflow) (3.1.0)\n",
            "Requirement already satisfied: zipp>=0.5 in /usr/local/lib/python3.7/dist-packages (from importlib-metadata; python_version < \"3.8\"->markdown>=2.6.8->tensorboard~=2.4->tensorflow) (3.4.1)\n"
          ],
          "name": "stdout"
        }
      ]
    },
    {
      "cell_type": "code",
      "metadata": {
        "id": "Cphy6SsB66eJ"
      },
      "source": [
        "#importing libraries\n",
        "import os\n",
        "import numpy as np\n",
        "import tensorflow as tf\n",
        "from sklearn.neighbors import NearestNeighbors\n",
        "from IO_utils import read_imgs_dir\n",
        "from transform_utils import apply_transformer,resize_img, normalize_img\n",
        "from plot_utils import plot_query_retrieval\n",
        "from keras.applications.resnet50 import ResNet50\n",
        "from keras.preprocessing.image import img_to_array\n",
        "\n",
        "# example of saving an image with the Keras API\n",
        "from keras.preprocessing.image import load_img\n",
        "from keras.preprocessing.image import save_img\n",
        "from keras.preprocessing.image import img_to_array\n",
        "from keras.preprocessing.image import load_img\n",
        "from keras.preprocessing.image import save_img\n",
        "\n",
        "\n",
        "# Class for Applying transformations to all images\n",
        "class ImageTransformer(object):\n",
        "\n",
        "    def __init__(self, shape_resize):\n",
        "        self.shape_resize = shape_resize\n",
        "\n",
        "    def __call__(self, img):\n",
        "        img_transformed = resize_img(img, self.shape_resize)\n",
        "        img_transformed = normalize_img(img_transformed)\n",
        "        return img_transformed\n",
        "\n",
        "modelName='resnet50'\n",
        "\n",
        "\n",
        "#taking input on number of similar images to be retreived\n",
        "\n",
        "n=int(input(\"Number of similar images to be retreived: \"))\n",
        "# Make paths\n",
        "DataTrain = os.path.join(\"/content/data/\", \"train\")\n",
        "DataTest = os.path.join(\"/content/data\", \"test\")\n",
        "outDir = os.path.join(os.getcwd(), \"output\", modelName)\n",
        "\n",
        "\n",
        "#creating path for output images\n",
        "\n",
        "if not os.path.exists(outDir):\n",
        "    os.makedirs(outDir)\n",
        "\n",
        "\n",
        "# Read images\n",
        "extensions = [\".jpg\", \".jpeg\"]\n",
        "print(\"Reading train images from '{}'...\".format(DataTrain))\n",
        "imgs_train = read_imgs_dir(DataTrain, extensions)\n",
        "print(\"Reading test images from '{}'...\".format(DataTest))\n",
        "imgs_test = read_imgs_dir(DataTest, extensions)\n",
        "shape_img = imgs_train[0].shape\n",
        "print(\"Image shape = {}\".format(shape_img))\n",
        "\n",
        "#downloading resnet50 with imagenet weights\n",
        "print(\"Loading resnet pre-trained model...\")\n",
        "model = ResNet50(weights='imagenet',include_top=False,input_shape=shape_img)\n",
        "#print(model.summary())\n",
        "\n",
        "\n",
        "shape_img_resize = tuple([int(x) for x in model.input.shape[1:]])\n",
        "input_shape_model = tuple([int(x) for x in model.input.shape[1:]])\n",
        "output_shape_model = tuple([int(x) for x in model.output.shape[1:]])\n",
        "\n",
        "# Print some model info\n",
        "print(\"input_shape_model = {}\".format(input_shape_model))\n",
        "print(\"output_shape_model = {}\".format(output_shape_model))\n",
        "print(\"shape_img_resize = {}\".format(shape_img_resize))\n",
        "\n",
        "\n",
        "\n",
        "\n",
        "\n",
        "transformer = ImageTransformer(shape_img_resize)\n",
        "print(\"Applying image transformer to training images...\")\n",
        "imgs_train_transformed = apply_transformer(imgs_train, transformer)\n",
        "print(\"Applying image transformer to test images...\")\n",
        "imgs_test_transformed = apply_transformer(imgs_test, transformer)\n",
        "\n",
        "\n",
        "\n",
        "# Convert images to numpy array\n",
        "X_train = np.array(imgs_train_transformed).reshape((-1,) + input_shape_model)\n",
        "X_test = np.array(imgs_test_transformed).reshape((-1,) + input_shape_model)\n",
        "print(\" -> X_train.shape = {}\".format(X_train.shape))\n",
        "print(\" -> X_test.shape = {}\".format(X_test.shape))\n",
        "\n",
        "\n",
        "\n",
        "\n",
        "\n",
        "# Create embeddings using model\n",
        "print(\"Inferencing embeddings using pre-trained model...\")\n",
        "E_train = model.predict(X_train)\n",
        "E_train_flatten = E_train.reshape((-1, np.prod(output_shape_model)))\n",
        "E_test = model.predict(X_test)\n",
        "E_test_flatten = E_test.reshape((-1, np.prod(output_shape_model)))\n",
        "print(\" -> E_train.shape = {}\".format(E_train.shape))\n",
        "print(\" -> E_test.shape = {}\".format(E_test.shape))\n",
        "print(\" -> E_train_flatten.shape = {}\".format(E_train_flatten.shape))\n",
        "print(\" -> E_test_flatten.shape = {}\".format(E_test_flatten.shape))\n",
        "\n",
        "\n",
        "\n",
        "print(\"Fitting k-nearest-neighbour model on training images...\")\n",
        "knn = NearestNeighbors(n_neighbors=n, metric=\"cosine\")\n",
        "knn.fit(E_train_flatten)\n",
        "\n",
        "\n",
        "\n",
        "for i, emb_flatten in enumerate(E_test_flatten):\n",
        "    _, indices = knn.kneighbors([emb_flatten])# find k nearest train neighbours\n",
        "    #print(indices)\n",
        "    img_query = imgs_test[i] # query image\n",
        "    imgs_retrieval = [imgs_train[idx] for idx in indices.flatten()] # retrieval images\n",
        "    print(type(imgs_retrieval))\n",
        "\n",
        "    for j, img in enumerate(imgs_retrieval):\n",
        "      #print(type(img))\n",
        "      #print(img.dtype)\n",
        "      img_array = img_to_array(img)\n",
        "      #print(type(img_array))\n",
        "      #print(img_array.dtype)\n",
        "      retrievalFile = os.path.join(outDir, \"{}_retrieval_{}.png\".format(i,j))\n",
        "      save_img(retrievalFile, img_array)\n",
        "    outFile = os.path.join(outDir, \"{}_retrieval_{}.png\".format(modelName, i))\n",
        "    #plot_query_retrieval(img_query, imgs_retrieval, outFile=None)\n",
        "    plot_query_retrieval(img_query, imgs_retrieval, outFile)\n",
        "    print(\"Similar images result saved on output folder\")"
      ],
      "execution_count": null,
      "outputs": []
    }
  ]
}